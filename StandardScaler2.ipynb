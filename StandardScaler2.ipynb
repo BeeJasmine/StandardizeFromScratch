{
 "cells": [
  {
   "cell_type": "code",
   "execution_count": 43,
   "metadata": {},
   "outputs": [],
   "source": [
    "#we tide our functions\n",
    "#for the calculus\n",
    "#explained in FROMSCRATCH file\n",
    "#(but with numpy's functions this time)\n",
    "#into a new class : Class StandardScaler2\n",
    "\n",
    "\n",
    "import numpy as np\n",
    "\n",
    "class StandardScaler2:\n",
    "    def __init__(self):\n",
    "        self.params_ = {}\n",
    "    def fit(self, x):\n",
    "        self.params_['mean'] = np.mean(x)#la moyenne\n",
    "        self.params_['std'] = np.std(x)#l'écart-type\n",
    "        return self\n",
    "    def fit_transform(self, x):\n",
    "        return (x-self.params_['mean'])/self.params_['std'] #score Z\n",
    "\n",
    "scaler_from_scratch = StandardScaler2()    "
   ]
  },
  {
   "cell_type": "code",
   "execution_count": 44,
   "metadata": {},
   "outputs": [],
   "source": [
    "data = [[10, 30], [40, 90], [30, 10]]\n",
    "#this is a list"
   ]
  },
  {
   "cell_type": "code",
   "execution_count": 45,
   "metadata": {},
   "outputs": [],
   "source": [
    "#let's transform our list\n",
    "data = np.array(data)"
   ]
  },
  {
   "cell_type": "code",
   "execution_count": 46,
   "metadata": {},
   "outputs": [
    {
     "data": {
      "text/plain": [
       "array([[-0.92847669, -0.18569534],\n",
       "       [ 0.18569534,  2.04264872],\n",
       "       [-0.18569534, -0.92847669]])"
      ]
     },
     "execution_count": 46,
     "metadata": {},
     "output_type": "execute_result"
    }
   ],
   "source": [
    "scaler_from_scratch.fit(data) #\n",
    "scaler_from_scratch.fit_transform(data)"
   ]
  },
  {
   "cell_type": "code",
   "execution_count": 47,
   "metadata": {},
   "outputs": [
    {
     "data": {
      "text/plain": [
       "array([[-1.33630621, -0.39223227],\n",
       "       [ 1.06904497,  1.37281295],\n",
       "       [ 0.26726124, -0.98058068]])"
      ]
     },
     "execution_count": 47,
     "metadata": {},
     "output_type": "execute_result"
    }
   ],
   "source": [
    "# we compare here our StandardScaler2 fromscratch \n",
    "# with the StandardScaler from scikitLearn\n",
    "\n",
    "from sklearn.preprocessing import StandardScaler\n",
    "\n",
    "scikit_scaler = StandardScaler()\n",
    "\n",
    "data2 = [[10, 30], [40, 90], [30, 10]]\n",
    "data2 = np.array(data2)\n",
    "\n",
    "scikit_scaler.fit(data2)\n",
    "scikit_scaler.transform(data2)"
   ]
  },
  {
   "cell_type": "code",
   "execution_count": null,
   "metadata": {},
   "outputs": [],
   "source": []
  },
  {
   "cell_type": "code",
   "execution_count": null,
   "metadata": {},
   "outputs": [],
   "source": []
  },
  {
   "cell_type": "code",
   "execution_count": null,
   "metadata": {},
   "outputs": [],
   "source": []
  }
 ],
 "metadata": {
  "kernelspec": {
   "display_name": "Python 3",
   "language": "python",
   "name": "python3"
  },
  "language_info": {
   "codemirror_mode": {
    "name": "ipython",
    "version": 3
   },
   "file_extension": ".py",
   "mimetype": "text/x-python",
   "name": "python",
   "nbconvert_exporter": "python",
   "pygments_lexer": "ipython3",
   "version": "3.6.9"
  }
 },
 "nbformat": 4,
 "nbformat_minor": 4
}
