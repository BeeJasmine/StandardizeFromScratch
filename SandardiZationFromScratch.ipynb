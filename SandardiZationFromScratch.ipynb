{
 "cells": [
  {
   "cell_type": "code",
   "execution_count": 41,
   "metadata": {},
   "outputs": [],
   "source": [
    "#un dataset, objet de type liste pour le moment\n",
    "data = [[10, 30], [40, 90], [30, 10]]"
   ]
  },
  {
   "cell_type": "code",
   "execution_count": 42,
   "metadata": {},
   "outputs": [
    {
     "data": {
      "text/plain": [
       "list"
      ]
     },
     "execution_count": 42,
     "metadata": {},
     "output_type": "execute_result"
    }
   ],
   "source": [
    "type(data)"
   ]
  },
  {
   "cell_type": "code",
   "execution_count": 43,
   "metadata": {},
   "outputs": [],
   "source": [
    "#pour calculter la racine carrée pour le calcul des stds\n",
    "from math import sqrt"
   ]
  },
  {
   "cell_type": "code",
   "execution_count": 44,
   "metadata": {},
   "outputs": [],
   "source": [
    "#calcul de la moyenne de chaque colonne\n",
    "def columns_means(data):\n",
    "    means = [0 for i in range(len(data[0]))]\n",
    "    for i in range(len(data[0])):\n",
    "        column_values = [row[i] for row in data]\n",
    "        means[i] = sum(column_values) / float(len(data))\n",
    "    return means #liste des moyennes"
   ]
  },
  {
   "cell_type": "code",
   "execution_count": 45,
   "metadata": {},
   "outputs": [],
   "source": [
    "#calcul du std de chaque colonne (standard deviation)\n",
    "def columns_stds(data, means):\n",
    "    stds = [0 for i in range(len(data[0]))]\n",
    "    for i in range(len(data[0])):\n",
    "        variance = [pow(row[i]-means[i], 2) for row in data]\n",
    "        stds[i] = sum(variance)\n",
    "    stds = [sqrt(std/(float(len(data)-1))) for std in stds]\n",
    "    return stds"
   ]
  },
  {
   "cell_type": "code",
   "execution_count": 46,
   "metadata": {},
   "outputs": [
    {
     "name": "stdout",
     "output_type": "stream",
     "text": [
      "[26.666666666666668, 43.333333333333336]\n",
      "[15.275252316519467, 41.63331998932265]\n"
     ]
    }
   ],
   "source": [
    "#on print la moy et le std\n",
    "means = columns_means(data)\n",
    "stds = columns_stds(data, means)\n",
    "print(means)\n",
    "print(stds)"
   ]
  },
  {
   "cell_type": "code",
   "execution_count": 47,
   "metadata": {},
   "outputs": [],
   "source": [
    "#nous avons nos 3 éléments nécessaires au calcul :\n",
    "    #observation (x) == row[i] for row in data\n",
    "    #moyenne(μ) == means\n",
    "    #standard deviation (σ) == stds\n",
    "\n",
    "#traduction de la formule mathématique de la standardiZation en python\n",
    "def standardiZation(data,means, stds):\n",
    "    for row in data:\n",
    "        for i in range(len(row)):\n",
    "            row[i] = (row[i]-means[i]) / stds[i]"
   ]
  },
  {
   "cell_type": "code",
   "execution_count": 48,
   "metadata": {},
   "outputs": [
    {
     "name": "stdout",
     "output_type": "stream",
     "text": [
      "[[10, 30], [40, 90], [30, 10]]\n"
     ]
    }
   ],
   "source": [
    "#avant la standardization\n",
    "print(data)"
   ]
  },
  {
   "cell_type": "code",
   "execution_count": 49,
   "metadata": {},
   "outputs": [],
   "source": [
    "standardiZation(data, means, stds)"
   ]
  },
  {
   "cell_type": "code",
   "execution_count": 50,
   "metadata": {},
   "outputs": [
    {
     "name": "stdout",
     "output_type": "stream",
     "text": [
      "[[-1.091089451179962, -0.3202563076101744], [0.8728715609439694, 1.12089707663561], [0.2182178902359923, -0.8006407690254358]]\n"
     ]
    }
   ],
   "source": [
    "#après\n",
    "print(data)"
   ]
  },
  {
   "cell_type": "code",
   "execution_count": 51,
   "metadata": {},
   "outputs": [],
   "source": [
    "import matplotlib.pyplot as plt"
   ]
  },
  {
   "cell_type": "code",
   "execution_count": null,
   "metadata": {},
   "outputs": [],
   "source": []
  }
 ],
 "metadata": {
  "kernelspec": {
   "display_name": "Python 3",
   "language": "python",
   "name": "python3"
  },
  "language_info": {
   "codemirror_mode": {
    "name": "ipython",
    "version": 3
   },
   "file_extension": ".py",
   "mimetype": "text/x-python",
   "name": "python",
   "nbconvert_exporter": "python",
   "pygments_lexer": "ipython3",
   "version": "3.6.9"
  }
 },
 "nbformat": 4,
 "nbformat_minor": 4
}
